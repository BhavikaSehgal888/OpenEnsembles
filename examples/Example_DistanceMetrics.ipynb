{
 "cells": [
  {
   "cell_type": "markdown",
   "metadata": {},
   "source": [
    "## Alter distance metrics"
   ]
  },
  {
   "cell_type": "code",
   "execution_count": 1,
   "metadata": {
    "collapsed": false
   },
   "outputs": [],
   "source": [
    "import pandas as pd\n",
    "import openensembles as oe\n",
    "import numpy as np\n",
    "import re\n",
    "\n",
    "\n",
    "## Generate Half Rings points.\n",
    "halfRings = []\n",
    "while(True):\n",
    "    x = np.random.normal(0,20)\n",
    "    y = np.random.normal(0,20)\n",
    "    z = np.random.normal(0,20)\n",
    "    if ((x ** 2 + y ** 2) >= 0.5) and ((x ** 2 + y ** 2) <= 1):\n",
    "        halfRings.append(list([x,y]))\n",
    "    elif ((x ** 2 + y ** 2) >= 10) and ((x ** 2 + y ** 2) <= 11):\n",
    "        halfRings.append(list([x,y]))\n",
    "        \n",
    "    if len(halfRings) == 400:\n",
    "        break\n",
    "\n",
    "halfRings = np.asarray(halfRings)\n",
    "df = pd.DataFrame(halfRings)\n",
    "#create an open ensembles data object from the dataframe\n",
    "dataObj = oe.data(df, [1,2])"
   ]
  },
  {
   "cell_type": "code",
   "execution_count": 2,
   "metadata": {
    "collapsed": false
   },
   "outputs": [],
   "source": [
    "c = oe.cluster(dataObj)"
   ]
  },
  {
   "cell_type": "code",
   "execution_count": 3,
   "metadata": {
    "collapsed": false
   },
   "outputs": [
    {
     "data": {
      "text/plain": [
       "{'AffinityPropagation': '',\n",
       " 'DBSCAN': '',\n",
       " 'agglomerative': '',\n",
       " 'kmeans': '',\n",
       " 'spectral': ''}"
      ]
     },
     "execution_count": 3,
     "metadata": {},
     "output_type": "execute_result"
    }
   ],
   "source": [
    "c.algorithms_available()"
   ]
  },
  {
   "cell_type": "code",
   "execution_count": 4,
   "metadata": {
    "collapsed": false
   },
   "outputs": [
    {
     "name": "stderr",
     "output_type": "stream",
     "text": [
      "/Users/knaegle/GIT/openensembles.main/clustering_algorithms.py:228: UserWarning: Parameter distance was not expected in algorithm kmeans and will be ignored\n",
      "  warnings.warn(\"Parameter %s was not expected in algorithm %s and will be ignored\"%(key, algorithm), UserWarning)\n"
     ]
    }
   ],
   "source": [
    "# If you call a clustering algorithm with parameters that includes 'distance', but no distance metric is accepted, \n",
    "# your clustering will complete, but a warning will be given\n",
    "params = {}\n",
    "params['distance'] = 'euclidean'\n",
    "c = oe.cluster(dataObj)\n",
    "c.cluster('parent', 'kmeans', 'kmeans', distance='euclidean', K=2)\n",
    "\n"
   ]
  },
  {
   "cell_type": "code",
   "execution_count": 18,
   "metadata": {
    "collapsed": false
   },
   "outputs": [
    {
     "name": "stderr",
     "output_type": "stream",
     "text": [
      "/Users/knaegle/GIT/openensembles.main/openensembles.py:237: UserWarning: For uniqueness, altered output_name to be spectral_6459\n",
      "  warnings.warn('For uniqueness, altered output_name to be %s'%(output_name), UserWarning)\n",
      "/Users/knaegle/GIT/openensembles.main/clustering_algorithms.py:228: UserWarning: Parameter distance was not expected and will be ignored\n",
      "  warnings.warn(\"Parameter %s was not expected and will be ignored\"%(key), UserWarning)\n"
     ]
    }
   ],
   "source": [
    "c.cluster('parent', 'spectral', 'spectral', distance='euclidean', K=2)"
   ]
  },
  {
   "cell_type": "code",
   "execution_count": null,
   "metadata": {
    "collapsed": true
   },
   "outputs": [],
   "source": []
  }
 ],
 "metadata": {
  "kernelspec": {
   "display_name": "Python [py35]",
   "language": "python",
   "name": "Python [py35]"
  },
  "language_info": {
   "codemirror_mode": {
    "name": "ipython",
    "version": 3
   },
   "file_extension": ".py",
   "mimetype": "text/x-python",
   "name": "python",
   "nbconvert_exporter": "python",
   "pygments_lexer": "ipython3",
   "version": "3.5.2"
  }
 },
 "nbformat": 4,
 "nbformat_minor": 0
}
