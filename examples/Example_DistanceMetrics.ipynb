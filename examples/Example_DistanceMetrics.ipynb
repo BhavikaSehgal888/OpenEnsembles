{
 "cells": [
  {
   "cell_type": "markdown",
   "metadata": {},
   "source": [
    "## Alter distance metrics"
   ]
  },
  {
   "cell_type": "code",
   "execution_count": 1,
   "metadata": {
    "collapsed": false
   },
   "outputs": [],
   "source": [
    "import pandas as pd\n",
    "import openensembles as oe\n",
    "import numpy as np\n",
    "import re\n",
    "import sklearn as sk\n",
    "import sklearn.cluster as skc\n",
    "\n",
    "\n",
    "## Generate Half Rings points.\n",
    "halfRings = []\n",
    "while(True):\n",
    "    x = np.random.normal(0,20)\n",
    "    y = np.random.normal(0,20)\n",
    "    z = np.random.normal(0,20)\n",
    "    if ((x ** 2 + y ** 2) >= 0.5) and ((x ** 2 + y ** 2) <= 1):\n",
    "        halfRings.append(list([x,y]))\n",
    "    elif ((x ** 2 + y ** 2) >= 10) and ((x ** 2 + y ** 2) <= 11):\n",
    "        halfRings.append(list([x,y]))\n",
    "        \n",
    "    if len(halfRings) == 400:\n",
    "        break\n",
    "\n",
    "halfRings = np.asarray(halfRings)\n",
    "df = pd.DataFrame(halfRings)\n",
    "#create an open ensembles data object from the dataframe\n",
    "dataObj = oe.data(df, [1,2])"
   ]
  },
  {
   "cell_type": "code",
   "execution_count": 2,
   "metadata": {
    "collapsed": false
   },
   "outputs": [],
   "source": [
    "c = oe.cluster(dataObj)"
   ]
  },
  {
   "cell_type": "code",
   "execution_count": 3,
   "metadata": {
    "collapsed": false
   },
   "outputs": [
    {
     "data": {
      "text/plain": [
       "{'AffinityPropagation': '',\n",
       " 'DBSCAN': '',\n",
       " 'agglomerative': '',\n",
       " 'kmeans': '',\n",
       " 'spectral': ''}"
      ]
     },
     "execution_count": 3,
     "metadata": {},
     "output_type": "execute_result"
    }
   ],
   "source": [
    "c.algorithms_available()"
   ]
  },
  {
   "cell_type": "code",
   "execution_count": 4,
   "metadata": {
    "collapsed": true
   },
   "outputs": [],
   "source": [
    "algorithms_wDist = ['agglomerative', 'DBSCAN', 'AffinityPropagation']\n",
    "algorithms_noDist = ['kmeans', 'spectral']"
   ]
  },
  {
   "cell_type": "code",
   "execution_count": 5,
   "metadata": {
    "collapsed": false
   },
   "outputs": [
    {
     "data": {
      "text/plain": [
       "{'cityblock': <function sklearn.metrics.pairwise.manhattan_distances>,\n",
       " 'cosine': <function sklearn.metrics.pairwise.cosine_distances>,\n",
       " 'euclidean': <function sklearn.metrics.pairwise.euclidean_distances>,\n",
       " 'l1': <function sklearn.metrics.pairwise.manhattan_distances>,\n",
       " 'l2': <function sklearn.metrics.pairwise.euclidean_distances>,\n",
       " 'manhattan': <function sklearn.metrics.pairwise.manhattan_distances>}"
      ]
     },
     "execution_count": 5,
     "metadata": {},
     "output_type": "execute_result"
    }
   ],
   "source": [
    "# Create an ensemble of those that can take distance, for all distances\n",
    "dDict = sk.metrics.pairwise.distance_metrics()\n",
    "#remove precomputed from dictionary of distances\n",
    "del dDict['precomputed']\n",
    "dDict"
   ]
  },
  {
   "cell_type": "code",
   "execution_count": 6,
   "metadata": {
    "collapsed": false
   },
   "outputs": [
    {
     "name": "stderr",
     "output_type": "stream",
     "text": [
      "/Users/knaegle/GIT/openensembles.main/clustering_algorithms.py:249: UserWarning: Parameter linkage was not expected in algorithm DBSCAN and will be ignored\n",
      "  warnings.warn(\"Parameter %s was not expected in algorithm %s and will be ignored\"%(key, algorithm), UserWarning)\n",
      "/Users/knaegle/GIT/openensembles.main/openensembles.py:253: UserWarning: Number of unique clusters returned does not match number requested\n",
      "  warnings.warn('Number of unique clusters returned does not match number requested', UserWarning)\n",
      "/Users/knaegle/GIT/openensembles.main/clustering_algorithms.py:249: UserWarning: Parameter linkage was not expected in algorithm AffinityPropagation and will be ignored\n",
      "  warnings.warn(\"Parameter %s was not expected in algorithm %s and will be ignored\"%(key, algorithm), UserWarning)\n",
      "/Users/knaegle/GIT/openensembles.main/clustering_algorithms.py:249: UserWarning: Parameter linkage was not expected in algorithm DBSCAN and will be ignored\n",
      "  warnings.warn(\"Parameter %s was not expected in algorithm %s and will be ignored\"%(key, algorithm), UserWarning)\n",
      "/Users/knaegle/GIT/openensembles.main/openensembles.py:253: UserWarning: Number of unique clusters returned does not match number requested\n",
      "  warnings.warn('Number of unique clusters returned does not match number requested', UserWarning)\n",
      "/Users/knaegle/GIT/openensembles.main/clustering_algorithms.py:249: UserWarning: Parameter linkage was not expected in algorithm AffinityPropagation and will be ignored\n",
      "  warnings.warn(\"Parameter %s was not expected in algorithm %s and will be ignored\"%(key, algorithm), UserWarning)\n",
      "/Users/knaegle/GIT/openensembles.main/clustering_algorithms.py:249: UserWarning: Parameter linkage was not expected in algorithm DBSCAN and will be ignored\n",
      "  warnings.warn(\"Parameter %s was not expected in algorithm %s and will be ignored\"%(key, algorithm), UserWarning)\n",
      "/Users/knaegle/GIT/openensembles.main/openensembles.py:253: UserWarning: Number of unique clusters returned does not match number requested\n",
      "  warnings.warn('Number of unique clusters returned does not match number requested', UserWarning)\n",
      "/Users/knaegle/GIT/openensembles.main/clustering_algorithms.py:249: UserWarning: Parameter linkage was not expected in algorithm AffinityPropagation and will be ignored\n",
      "  warnings.warn(\"Parameter %s was not expected in algorithm %s and will be ignored\"%(key, algorithm), UserWarning)\n",
      "/Users/knaegle/GIT/openensembles.main/clustering_algorithms.py:249: UserWarning: Parameter linkage was not expected in algorithm DBSCAN and will be ignored\n",
      "  warnings.warn(\"Parameter %s was not expected in algorithm %s and will be ignored\"%(key, algorithm), UserWarning)\n",
      "/Users/knaegle/GIT/openensembles.main/clustering_algorithms.py:249: UserWarning: Parameter linkage was not expected in algorithm AffinityPropagation and will be ignored\n",
      "  warnings.warn(\"Parameter %s was not expected in algorithm %s and will be ignored\"%(key, algorithm), UserWarning)\n",
      "/Users/knaegle/GIT/openensembles.main/openensembles.py:253: UserWarning: Number of unique clusters returned does not match number requested\n",
      "  warnings.warn('Number of unique clusters returned does not match number requested', UserWarning)\n",
      "/Users/knaegle/GIT/openensembles.main/clustering_algorithms.py:249: UserWarning: Parameter linkage was not expected in algorithm DBSCAN and will be ignored\n",
      "  warnings.warn(\"Parameter %s was not expected in algorithm %s and will be ignored\"%(key, algorithm), UserWarning)\n",
      "/Users/knaegle/GIT/openensembles.main/openensembles.py:253: UserWarning: Number of unique clusters returned does not match number requested\n",
      "  warnings.warn('Number of unique clusters returned does not match number requested', UserWarning)\n",
      "/Users/knaegle/GIT/openensembles.main/clustering_algorithms.py:249: UserWarning: Parameter linkage was not expected in algorithm AffinityPropagation and will be ignored\n",
      "  warnings.warn(\"Parameter %s was not expected in algorithm %s and will be ignored\"%(key, algorithm), UserWarning)\n",
      "/Users/knaegle/GIT/openensembles.main/clustering_algorithms.py:249: UserWarning: Parameter linkage was not expected in algorithm DBSCAN and will be ignored\n",
      "  warnings.warn(\"Parameter %s was not expected in algorithm %s and will be ignored\"%(key, algorithm), UserWarning)\n",
      "/Users/knaegle/GIT/openensembles.main/clustering_algorithms.py:249: UserWarning: Parameter linkage was not expected in algorithm AffinityPropagation and will be ignored\n",
      "  warnings.warn(\"Parameter %s was not expected in algorithm %s and will be ignored\"%(key, algorithm), UserWarning)\n",
      "/Users/knaegle/GIT/openensembles.main/openensembles.py:253: UserWarning: Number of unique clusters returned does not match number requested\n",
      "  warnings.warn('Number of unique clusters returned does not match number requested', UserWarning)\n"
     ]
    }
   ],
   "source": [
    "#PREFORM ensemble clustering \n",
    "c = oe.cluster(dataObj)\n",
    "\n",
    "K = [2]\n",
    "\n",
    "for distance in dDict:\n",
    "    for algorithm in algorithms_wDist:\n",
    "        for k in K:\n",
    "            for transform in list(dataObj.D.keys()):\n",
    "                name = \"%s_%d_%s_%s\"%(algorithm, k, transform, distance)\n",
    "                if algorithm=='agglomerative': #can't perform distance calculation on ward, which is default linkage\n",
    "                    c.cluster(transform, algorithm, name, K=k, distance=distance, linkage='complete')\n",
    "                else:\n",
    "                    c.cluster(transform, algorithm, name, K=k, distance=distance)"
   ]
  },
  {
   "cell_type": "code",
   "execution_count": 36,
   "metadata": {
    "collapsed": false
   },
   "outputs": [
    {
     "ename": "TypeError",
     "evalue": "unorderable types: str() <= int()",
     "output_type": "error",
     "traceback": [
      "\u001b[0;31m---------------------------------------------------------------------------\u001b[0m",
      "\u001b[0;31mTypeError\u001b[0m                                 Traceback (most recent call last)",
      "\u001b[0;32m<ipython-input-36-be8598f2ec49>\u001b[0m in \u001b[0;36m<module>\u001b[0;34m()\u001b[0m\n\u001b[1;32m      1\u001b[0m \u001b[0;31m# test argument handling\u001b[0m\u001b[0;34m\u001b[0m\u001b[0;34m\u001b[0m\u001b[0m\n\u001b[1;32m      2\u001b[0m \u001b[0mlistName\u001b[0m \u001b[0;34m=\u001b[0m \u001b[0;34m[\u001b[0m\u001b[0;34m'K=k'\u001b[0m\u001b[0;34m]\u001b[0m\u001b[0;34m\u001b[0m\u001b[0m\n\u001b[0;32m----> 3\u001b[0;31m \u001b[0mc\u001b[0m\u001b[0;34m.\u001b[0m\u001b[0mcluster\u001b[0m\u001b[0;34m(\u001b[0m\u001b[0mtransform\u001b[0m\u001b[0;34m,\u001b[0m \u001b[0malgorithm\u001b[0m\u001b[0;34m,\u001b[0m \u001b[0mname\u001b[0m\u001b[0;34m,\u001b[0m \u001b[0;34m*\u001b[0m\u001b[0mlistName\u001b[0m\u001b[0;34m)\u001b[0m\u001b[0;34m\u001b[0m\u001b[0m\n\u001b[0m",
      "\u001b[0;32m/Users/knaegle/GIT/openensembles.main/openensembles.py\u001b[0m in \u001b[0;36mcluster\u001b[0;34m(self, source_name, algorithm, output_name, K, Require_Unique, **kwargs)\u001b[0m\n\u001b[1;32m    244\u001b[0m         \u001b[0mc\u001b[0m \u001b[0;34m=\u001b[0m \u001b[0mca\u001b[0m\u001b[0;34m.\u001b[0m\u001b[0mclustering_algorithms\u001b[0m\u001b[0;34m(\u001b[0m\u001b[0mself\u001b[0m\u001b[0;34m.\u001b[0m\u001b[0mdataObj\u001b[0m\u001b[0;34m.\u001b[0m\u001b[0mD\u001b[0m\u001b[0;34m[\u001b[0m\u001b[0msource_name\u001b[0m\u001b[0;34m]\u001b[0m\u001b[0;34m,\u001b[0m \u001b[0mvar_params\u001b[0m\u001b[0;34m,\u001b[0m \u001b[0mK\u001b[0m\u001b[0;34m)\u001b[0m\u001b[0;34m\u001b[0m\u001b[0m\n\u001b[1;32m    245\u001b[0m         \u001b[0mfunc\u001b[0m \u001b[0;34m=\u001b[0m \u001b[0mgetattr\u001b[0m\u001b[0;34m(\u001b[0m\u001b[0mc\u001b[0m\u001b[0;34m,\u001b[0m\u001b[0malgorithm\u001b[0m\u001b[0;34m)\u001b[0m\u001b[0;34m\u001b[0m\u001b[0m\n\u001b[0;32m--> 246\u001b[0;31m         \u001b[0mfunc\u001b[0m\u001b[0;34m(\u001b[0m\u001b[0;34m)\u001b[0m\u001b[0;34m\u001b[0m\u001b[0m\n\u001b[0m\u001b[1;32m    247\u001b[0m \u001b[0;34m\u001b[0m\u001b[0m\n\u001b[1;32m    248\u001b[0m         \u001b[0;31m#### FINAL staging, c now contains a finished assignment and c.params has final parameters used.\u001b[0m\u001b[0;34m\u001b[0m\u001b[0;34m\u001b[0m\u001b[0m\n",
      "\u001b[0;32m/Users/knaegle/GIT/openensembles.main/clustering_algorithms.py\u001b[0m in \u001b[0;36magglomerative\u001b[0;34m(self)\u001b[0m\n\u001b[1;32m    151\u001b[0m         \u001b[0md\u001b[0m \u001b[0;34m=\u001b[0m \u001b[0mreturnDistanceMatrix\u001b[0m\u001b[0;34m(\u001b[0m\u001b[0mself\u001b[0m\u001b[0;34m.\u001b[0m\u001b[0mdata\u001b[0m\u001b[0;34m,\u001b[0m \u001b[0mparams\u001b[0m\u001b[0;34m[\u001b[0m\u001b[0;34m'distance'\u001b[0m\u001b[0;34m]\u001b[0m\u001b[0;34m)\u001b[0m\u001b[0;34m\u001b[0m\u001b[0m\n\u001b[1;32m    152\u001b[0m         \u001b[0mparams\u001b[0m\u001b[0;34m[\u001b[0m\u001b[0;34m'affinity'\u001b[0m\u001b[0;34m]\u001b[0m \u001b[0;34m=\u001b[0m \u001b[0;34m'precomputed'\u001b[0m\u001b[0;34m\u001b[0m\u001b[0m\n\u001b[0;32m--> 153\u001b[0;31m \u001b[0;34m\u001b[0m\u001b[0m\n\u001b[0m\u001b[1;32m    154\u001b[0m         \u001b[0;32mif\u001b[0m \u001b[0;34m'affinity'\u001b[0m \u001b[0;32mnot\u001b[0m \u001b[0;32min\u001b[0m \u001b[0mself\u001b[0m\u001b[0;34m.\u001b[0m\u001b[0mvar_params\u001b[0m\u001b[0;34m:\u001b[0m\u001b[0;34m\u001b[0m\u001b[0m\n\u001b[1;32m    155\u001b[0m             \u001b[0mparams\u001b[0m\u001b[0;34m[\u001b[0m\u001b[0;34m'affinity'\u001b[0m\u001b[0;34m]\u001b[0m\u001b[0;34m=\u001b[0m\u001b[0mparams\u001b[0m\u001b[0;34m[\u001b[0m\u001b[0;34m'distance'\u001b[0m\u001b[0;34m]\u001b[0m \u001b[0;31m#if self.var_params had a distance, have to reset here. (have to allow for the fact that someone could send it in as 'metric')\u001b[0m\u001b[0;34m\u001b[0m\u001b[0m\n",
      "\u001b[0;32m/Users/knaegle/anaconda/envs/py35/lib/python3.5/site-packages/sklearn/cluster/hierarchical.py\u001b[0m in \u001b[0;36mfit\u001b[0;34m(self, X, y)\u001b[0m\n\u001b[1;32m    719\u001b[0m             \u001b[0mmemory\u001b[0m \u001b[0;34m=\u001b[0m \u001b[0mMemory\u001b[0m\u001b[0;34m(\u001b[0m\u001b[0mcachedir\u001b[0m\u001b[0;34m=\u001b[0m\u001b[0mmemory\u001b[0m\u001b[0;34m,\u001b[0m \u001b[0mverbose\u001b[0m\u001b[0;34m=\u001b[0m\u001b[0;36m0\u001b[0m\u001b[0;34m)\u001b[0m\u001b[0;34m\u001b[0m\u001b[0m\n\u001b[1;32m    720\u001b[0m \u001b[0;34m\u001b[0m\u001b[0m\n\u001b[0;32m--> 721\u001b[0;31m         \u001b[0;32mif\u001b[0m \u001b[0mself\u001b[0m\u001b[0;34m.\u001b[0m\u001b[0mn_clusters\u001b[0m \u001b[0;34m<=\u001b[0m \u001b[0;36m0\u001b[0m\u001b[0;34m:\u001b[0m\u001b[0;34m\u001b[0m\u001b[0m\n\u001b[0m\u001b[1;32m    722\u001b[0m             raise ValueError(\"n_clusters should be an integer greater than 0.\"\n\u001b[1;32m    723\u001b[0m                              \" %s was provided.\" % str(self.n_clusters))\n",
      "\u001b[0;31mTypeError\u001b[0m: unorderable types: str() <= int()"
     ]
    }
   ],
   "source": [
    "# test argument handling\n",
    "listName = ['K=k']\n",
    "c.cluster(transform, algorithm, name, *listName)"
   ]
  },
  {
   "cell_type": "markdown",
   "metadata": {},
   "source": [
    "## What happens when you call a clustering algorithm with no distance metric"
   ]
  },
  {
   "cell_type": "code",
   "execution_count": 4,
   "metadata": {
    "collapsed": false
   },
   "outputs": [
    {
     "name": "stderr",
     "output_type": "stream",
     "text": [
      "/Users/knaegle/GIT/openensembles.main/clustering_algorithms.py:228: UserWarning: Parameter distance was not expected in algorithm kmeans and will be ignored\n",
      "  warnings.warn(\"Parameter %s was not expected in algorithm %s and will be ignored\"%(key, algorithm), UserWarning)\n"
     ]
    }
   ],
   "source": [
    "# If you call a clustering algorithm with parameters that includes 'distance', but no distance metric is accepted, \n",
    "# your clustering will complete, but a warning will be given\n",
    "params = {}\n",
    "params['distance'] = 'euclidean'\n",
    "c_noDist = oe.cluster(dataObj)\n",
    "c_noDist.cluster('parent', 'kmeans', 'kmeans', distance='euclidean', K=2)\n",
    "\n"
   ]
  },
  {
   "cell_type": "code",
   "execution_count": null,
   "metadata": {
    "collapsed": true
   },
   "outputs": [],
   "source": []
  }
 ],
 "metadata": {
  "kernelspec": {
   "display_name": "Python [py35]",
   "language": "python",
   "name": "Python [py35]"
  },
  "language_info": {
   "codemirror_mode": {
    "name": "ipython",
    "version": 3
   },
   "file_extension": ".py",
   "mimetype": "text/x-python",
   "name": "python",
   "nbconvert_exporter": "python",
   "pygments_lexer": "ipython3",
   "version": "3.5.2"
  }
 },
 "nbformat": 4,
 "nbformat_minor": 0
}
